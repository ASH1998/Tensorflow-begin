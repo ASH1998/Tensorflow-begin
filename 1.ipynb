{
 "cells": [
  {
   "cell_type": "code",
   "execution_count": 1,
   "metadata": {
    "collapsed": true
   },
   "outputs": [],
   "source": [
    "import tensorflow as tf\n",
    "import numpy as np"
   ]
  },
  {
   "cell_type": "code",
   "execution_count": 2,
   "metadata": {
    "collapsed": false
   },
   "outputs": [],
   "source": [
    "#initialising random data\n",
    "\n",
    "x_values = np.random.rand(100).astype(np.float64)\n",
    "y_values = x_values*1.3 + 0.9 "
   ]
  },
  {
   "cell_type": "markdown",
   "metadata": {},
   "source": [
    "the values 1.3 and 0.9 are the ones we will predict using NN"
   ]
  },
  {
   "cell_type": "code",
   "execution_count": 3,
   "metadata": {
    "collapsed": true
   },
   "outputs": [],
   "source": [
    "#initialising the start function\n",
    "def start(x, y):\n",
    "    #initialising the hyperparameters\n",
    "    weights = tf.Variable(tf.random_uniform([1], 1, 2))\n",
    "    bias = tf.Variable(tf.zeros([1]))\n",
    "    y_new = x*weights + bias\n",
    "    \n",
    "    #getting the loss and getting the mean squared\n",
    "    loss = tf.reduce_mean(tf.square(y-y_new))\n",
    "    \n",
    "    #getting a suitable optimiser!!\n",
    "    optimiser = tf.train.GradientDescentOptimizer(learning_rate=0.5)\n",
    "    train_ = optimiser.minimize(loss)\n",
    "    \n",
    "    #initialising all the variables\n",
    "    init = tf.global_variables_initializer()\n",
    "    \n",
    "    #initialising the session\n",
    "    sess = tf.Session()\n",
    "    sess.run(init)\n",
    "    \n",
    "    for i in range(180): #for the number of steps\n",
    "        sess.run(train_)\n",
    "        if i%20 == 0:\n",
    "            print(i ,sess.run(weights), sess.run(bias))"
   ]
  },
  {
   "cell_type": "markdown",
   "metadata": {},
   "source": [
    "Now calling the driver function"
   ]
  },
  {
   "cell_type": "code",
   "execution_count": 4,
   "metadata": {
    "collapsed": false
   },
   "outputs": [
    {
     "name": "stdout",
     "output_type": "stream",
     "text": [
      "0 [ 2.05410957] [ 0.66774845]\n",
      "20 [ 1.45596862] [ 0.81379777]\n",
      "40 [ 1.3359865] [ 0.88011062]\n",
      "60 [ 1.30830312] [ 0.89541095]\n",
      "80 [ 1.30191576] [ 0.89894116]\n",
      "100 [ 1.3004421] [ 0.89975566]\n",
      "120 [ 1.300102] [ 0.89994365]\n",
      "140 [ 1.30002356] [ 0.89998698]\n",
      "160 [ 1.30000556] [ 0.89999694]\n"
     ]
    }
   ],
   "source": [
    "start(x_values, y_values)"
   ]
  },
  {
   "cell_type": "markdown",
   "metadata": {
    "collapsed": true
   },
   "source": [
    "As you can see just around 180 steps the values optimize to 1.3 and 0.9 as we wanted!!\n",
    "Different learning rates take different number of steps!!"
   ]
  },
  {
   "cell_type": "code",
   "execution_count": null,
   "metadata": {
    "collapsed": true
   },
   "outputs": [],
   "source": []
  }
 ],
 "metadata": {
  "anaconda-cloud": {},
  "kernelspec": {
   "display_name": "Python [conda root]",
   "language": "python",
   "name": "conda-root-py"
  },
  "language_info": {
   "codemirror_mode": {
    "name": "ipython",
    "version": 3
   },
   "file_extension": ".py",
   "mimetype": "text/x-python",
   "name": "python",
   "nbconvert_exporter": "python",
   "pygments_lexer": "ipython3",
   "version": "3.5.2"
  }
 },
 "nbformat": 4,
 "nbformat_minor": 2
}
